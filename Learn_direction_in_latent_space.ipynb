{
 "cells": [
  {
   "cell_type": "code",
   "execution_count": 1,
   "metadata": {},
   "outputs": [],
   "source": [
    "import os\n",
    "import pickle\n",
    "import config\n",
    "import dnnlib\n",
    "import gzip\n",
    "import json\n",
    "import numpy as np\n",
    "from tqdm import tqdm_notebook\n",
    "import warnings\n",
    "import matplotlib.pylab as plt\n",
    "%matplotlib inline\n",
    "warnings.filterwarnings(\"ignore\")"
   ]
  },
  {
   "cell_type": "markdown",
   "metadata": {},
   "source": [
    "# Loading data"
   ]
  },
  {
   "cell_type": "code",
   "execution_count": 2,
   "metadata": {},
   "outputs": [],
   "source": [
    "# Thanks for Microsoft Cognitive Services API (free trial) for labeling of generated images\n",
    "# https://azure.microsoft.com/en-us/services/cognitive-services/face/\n",
    "\n",
    "# A pretty simple logic was used for generating images:\n",
    "\n",
    "# qlatents = np.random.normal(size=(1, 512))\n",
    "# dlatents = Gs_network.components.mapping.run(qlatents, None, minibatch_size=1, randomize_noise=False, structure='fixed') # untruncated by default, I guess\n",
    "# images = Gs_network.components.synthesis.run(dlatents, minibatch_size=1, randomize_noise=False, output_transform=dict(func=tflib.convert_images_to_uint8, nchw_to_nhwc=True), structure='fixed')\n",
    "\n",
    "# After that generated image was sent to Micriosft API and response was stored as is"
   ]
  },
  {
   "cell_type": "code",
   "execution_count": 3,
   "metadata": {
    "scrolled": true
   },
   "outputs": [],
   "source": [
    "LATENT_TRAINING_DATA = 'https://drive.google.com/uc?id=1xMM3AFq0r014IIhBLiMCjKJJvbhLUQ9t'\n",
    "    \n",
    "with dnnlib.util.open_url(LATENT_TRAINING_DATA, cache_dir=config.cache_dir) as f:\n",
    "    qlatent_data, dlatent_data, labels_data = pickle.load(gzip.GzipFile(fileobj=f))\n"
   ]
  },
  {
   "cell_type": "code",
   "execution_count": 4,
   "metadata": {},
   "outputs": [
    {
     "data": {
      "text/plain": [
       "(20307, 18, 512)"
      ]
     },
     "execution_count": 4,
     "metadata": {},
     "output_type": "execute_result"
    }
   ],
   "source": [
    "dlatent_data.shape"
   ]
  },
  {
   "cell_type": "code",
   "execution_count": 5,
   "metadata": {},
   "outputs": [
    {
     "data": {
      "text/plain": [
       "20307"
      ]
     },
     "execution_count": 5,
     "metadata": {},
     "output_type": "execute_result"
    }
   ],
   "source": [
    "# Let's play with age and gender\n",
    "# you can train your own model now\n",
    "\n",
    "X_data = dlatent_data.reshape((-1, 18*512))\n",
    "facemakeup_data = np.array([x['faceAttributes']['makeup']['lipMakeup'] for x in labels_data])\n",
    "eyemakeup_data = np.array([x['faceAttributes']['makeup']['eyeMakeup']  for x in labels_data])\n",
    "\n",
    "assert(len(X_data) == len(facemakeup_data) == len(eyemakeup_data))\n",
    "len(X_data)"
   ]
  },
  {
   "cell_type": "code",
   "execution_count": 6,
   "metadata": {},
   "outputs": [
    {
     "data": {
      "text/plain": [
       "8672"
      ]
     },
     "execution_count": 6,
     "metadata": {},
     "output_type": "execute_result"
    }
   ],
   "source": [
    "np.sum(facemakeup_data)"
   ]
  },
  {
   "cell_type": "code",
   "execution_count": 7,
   "metadata": {},
   "outputs": [
    {
     "name": "stdout",
     "output_type": "stream",
     "text": [
      "73\n"
     ]
    }
   ],
   "source": [
    "import numpy as np\n",
    "batches = []\n",
    "for i in range(73):\n",
    "    batch = np.load('batch_%s.npy' % i, allow_pickle=True)\n",
    "    batches.append(batch)\n",
    "print(len(batches))\n",
    "    \n"
   ]
  },
  {
   "cell_type": "code",
   "execution_count": 23,
   "metadata": {},
   "outputs": [],
   "source": [
    "dlatent_list = []\n",
    "results_list = []\n",
    "for batch in batches:\n",
    "    for example in batch:\n",
    "        dlatent_list.append(example[1])\n",
    "        results_list.append(example[2])"
   ]
  },
  {
   "cell_type": "code",
   "execution_count": 25,
   "metadata": {},
   "outputs": [
    {
     "name": "stdout",
     "output_type": "stream",
     "text": [
      "(9216, 18, 512)\n",
      "(9216, 40)\n"
     ]
    }
   ],
   "source": [
    "dlatent_data = np.array(dlatent_list)\n",
    "results_data = np.array(results_list)\n",
    "print(dlatent_data.shape)\n",
    "print(results_data.shape)\n",
    "np.save('training_data_dlatents.npy', dlatent_data, allow_pickle=True)\n",
    "np.save('training_data_results.npy', results_data, allow_pickle=True)"
   ]
  },
  {
   "cell_type": "code",
   "execution_count": 51,
   "metadata": {},
   "outputs": [
    {
     "name": "stdout",
     "output_type": "stream",
     "text": [
      "0.0\n",
      "8820.768091931703\n",
      "9216.0\n",
      "1.7889897745785747e-242\n",
      "0.0\n",
      "1.9500651130604682e-108\n",
      "0.0\n",
      "4.755820368253511e-130\n",
      "2.718067673927657e-167\n",
      "0.0\n",
      "0.0\n",
      "128.27142208156482\n",
      "2.267239740559995e-234\n",
      "9216.0\n",
      "5.7343548249991805e-297\n",
      "0.0\n",
      "0.0\n",
      "0.0\n",
      "9216.0\n",
      "2.0915947322176146e-79\n",
      "1.0286830792131658e-160\n",
      "2944.0452189045614\n",
      "0.0\n",
      "0.0\n",
      "9216.0\n",
      "9216.0\n",
      "0.0\n",
      "0.0\n",
      "2.2839488881564857e-175\n",
      "6.874424945282605e-22\n",
      "6.255714506286783e-246\n",
      "400.6844268437197\n",
      "1.4383541357529462e-183\n",
      "9216.0\n",
      "127.9999939599657\n",
      "0.0\n",
      "9216.0\n",
      "0.0\n",
      "0.0\n",
      "9216.0\n"
     ]
    }
   ],
   "source": [
    "from scipy.stats import logistic\n",
    "for i in range(40):\n",
    "    print(np.sum(logistic.cdf(results_data[:, i])))"
   ]
  },
  {
   "cell_type": "code",
   "execution_count": 30,
   "metadata": {},
   "outputs": [
    {
     "data": {
      "text/plain": [
       "0.0"
      ]
     },
     "execution_count": 30,
     "metadata": {},
     "output_type": "execute_result"
    }
   ],
   "source": []
  },
  {
   "cell_type": "markdown",
   "metadata": {},
   "source": [
    "# EDA"
   ]
  },
  {
   "cell_type": "markdown",
   "metadata": {},
   "source": [
    "# Training a linear model for obtaining gender direction in latent space"
   ]
  },
  {
   "cell_type": "code",
   "execution_count": 8,
   "metadata": {},
   "outputs": [],
   "source": [
    "from sklearn.linear_model import LogisticRegression, SGDClassifier\n",
    "from sklearn.model_selection import StratifiedKFold, cross_val_score, train_test_split\n",
    "from sklearn.metrics import accuracy_score"
   ]
  },
  {
   "cell_type": "code",
   "execution_count": 9,
   "metadata": {},
   "outputs": [
    {
     "name": "stdout",
     "output_type": "stream",
     "text": [
      "CPU times: user 2min 6s, sys: 2.16 s, total: 2min 8s\n",
      "Wall time: 2min 9s\n"
     ]
    }
   ],
   "source": [
    "%%time\n",
    "facemakeup_classifier = LogisticRegression(class_weight='balanced').fit(X_data, facemakeup_data)"
   ]
  },
  {
   "cell_type": "code",
   "execution_count": 11,
   "metadata": {},
   "outputs": [
    {
     "data": {
      "text/plain": [
       "['facemakeup_classifier.joblib']"
      ]
     },
     "execution_count": 11,
     "metadata": {},
     "output_type": "execute_result"
    }
   ],
   "source": [
    "facemakeup_direction = facemakeup_classifier.coef_.reshape((18, 512))"
   ]
  },
  {
   "cell_type": "code",
   "execution_count": 14,
   "metadata": {},
   "outputs": [],
   "source": [
    "np.save('facemakeup_direction.npy', facemakeup_direction)"
   ]
  },
  {
   "cell_type": "markdown",
   "metadata": {},
   "source": [
    "### Evaluating model performance"
   ]
  },
  {
   "cell_type": "code",
   "execution_count": 10,
   "metadata": {},
   "outputs": [
    {
     "name": "stdout",
     "output_type": "stream",
     "text": [
      "[0.6609218  0.75219147]\n",
      "Mean:  0.7065566373582086\n",
      "CPU times: user 2min 41s, sys: 2.69 s, total: 2min 43s\n",
      "Wall time: 2min 44s\n"
     ]
    }
   ],
   "source": [
    "%%time\n",
    "clf = SGDClassifier('log', class_weight='balanced') # SGB model for performance sake\n",
    "scores = cross_val_score(clf, X_data, facemakeup_data, scoring='accuracy', cv=2)\n",
    "clf.fit(X_data, facemakeup_data)\n",
    "\n",
    "print(scores)\n",
    "print('Mean: ', np.mean(scores))\n",
    "\n",
    "# Accuracy ? Meh. But gender distribution is almost balanced ... at least for simplicity sake"
   ]
  },
  {
   "cell_type": "code",
   "execution_count": 13,
   "metadata": {},
   "outputs": [],
   "source": [
    "y_score = facemakeup_data\n",
    "y_test = facemakeup_classifier.predict(X_data)"
   ]
  },
  {
   "cell_type": "code",
   "execution_count": 18,
   "metadata": {},
   "outputs": [
    {
     "data": {
      "text/plain": [
       "Text(0.5, 1.0, \"PR curve for 'heavy makeup' linear classifier. AP=0.73\")"
      ]
     },
     "execution_count": 18,
     "metadata": {},
     "output_type": "execute_result"
    },
    {
     "data": {
      "image/png": "[encoded data removed]",
      "text/plain": [
       "<Figure size 432x288 with 1 Axes>"
      ]
     },
     "metadata": {
      "needs_background": "light"
     },
     "output_type": "display_data"
    }
   ],
   "source": [
    "from sklearn.metrics import precision_recall_curve\n",
    "import matplotlib.pyplot as plt\n",
    "from inspect import signature\n",
    "from sklearn.metrics import average_precision_score\n",
    "\n",
    "\n",
    "precision, recall, _ = precision_recall_curve(y_test, y_score)\n",
    "average_precision = average_precision_score(y_test, y_score)\n",
    "\n",
    "\n",
    "step_kwargs = ({'step': 'post'}\n",
    "               if 'step' in signature(plt.fill_between).parameters\n",
    "               else {})\n",
    "plt.step(recall, precision, color='b', alpha=0.1,\n",
    "         where='post')\n",
    "plt.fill_between(recall, precision, alpha=0.1, color='b', **step_kwargs)\n",
    "\n",
    "plt.xlabel('Recall')\n",
    "plt.ylabel('Precision')\n",
    "plt.ylim([0.0, 1.05])\n",
    "plt.xlim([0.0, 1.0])\n",
    "plt.title('PR curve for \\'heavy makeup\\' linear classifier. AP={0:0.2f}'.format(\n",
    "          average_precision))"
   ]
  },
  {
   "cell_type": "markdown",
   "metadata": {},
   "source": [
    "#### Dependency of gender detection errors on age "
   ]
  },
  {
   "cell_type": "code",
   "execution_count": null,
   "metadata": {},
   "outputs": [],
   "source": [
    "bins, bin_edges = np.histogram(y_age_data, bins=30)\n",
    "errors,_ = np.histogram(y_age_data[clf.predict(X_data) != y_gender_data], bin_edges)\n",
    "\n",
    "plt.plot(errors / bins)\n",
    "plt.title('Dependency of gender detection errors on age')\n",
    "plt.ylabel('Gender detection error rate')\n",
    "plt.xlabel('Age')\n",
    "plt.show()\n",
    "\n",
    "# Seems that the most diffictul for model is to distinguish babies. For me as well to be honest.\n",
    "# Or model which we used for creating \"ground truth\" produces random guesses\n",
    "# I bet that both are true"
   ]
  },
  {
   "cell_type": "markdown",
   "metadata": {},
   "source": [
    "#### Dependency of accuracy on training data size"
   ]
  },
  {
   "cell_type": "code",
   "execution_count": null,
   "metadata": {
    "scrolled": true
   },
   "outputs": [],
   "source": [
    "%%time\n",
    "\n",
    "nb_folds = 5\n",
    "splits = 20\n",
    "scores = np.zeros((splits, nb_folds))\n",
    "dataset_size = list()\n",
    "\n",
    "for fold_id, (train_idx, test_idx) in enumerate(StratifiedKFold(nb_folds, True, 42).split(X_data, y_gender_data)):\n",
    "    X_train, X_test = X_data[train_idx][:1000], X_data[test_idx]\n",
    "    y_train, y_test = y_gender_data[train_idx][:1000], y_gender_data[test_idx]\n",
    "    \n",
    "    for split_id in range(splits):\n",
    "        nb_samples = int((len(X_train)/splits) * (split_id+1))\n",
    "        dataset_size.append(nb_samples)\n",
    "        clf = SGDClassifier('log', class_weight='balanced').fit(X_train[:nb_samples], y_train[:nb_samples])\n",
    "        scores[split_id][fold_id] = accuracy_score(y_test, clf.predict(X_test))\n",
    "        \n",
    "\n",
    "plt.plot(dataset_size[:splits], scores.mean(axis=1))\n",
    "plt.title('Dependency of accuracy on training data size')\n",
    "plt.xlabel('Dataset size')\n",
    "plt.ylabel('Accuracy')\n",
    "plt.show()\n",
    "\n",
    "# Seems that 100 labeled examples is already enough to reach 80% accuracy (for gender).\n",
    "# That's an interesting insight."
   ]
  },
  {
   "cell_type": "markdown",
   "metadata": {},
   "source": [
    "#### Latent layers importance"
   ]
  },
  {
   "cell_type": "code",
   "execution_count": null,
   "metadata": {},
   "outputs": [],
   "source": [
    "# Let's try to find out which latent layer is most useful for predicting gender\n",
    "\n",
    "scores = list()\n",
    "for layer in tqdm_notebook(range(18)):\n",
    "    clf = SGDClassifier('log', class_weight='balanced')\n",
    "    scores.append(cross_val_score(clf, X_data.reshape((-1, 18, 512))[:,layer], y_gender_data, scoring='accuracy', cv=5).mean())\n",
    "    \n",
    "plt.plot(np.arange(0,18), scores)\n",
    "plt.xlabel('Layer')\n",
    "plt.ylabel('Accuracy')\n",
    "plt.show()\n",
    "\n",
    "# Huh? Seems that every latent layer contains some information about gender.\n",
    "# I didn't expect that to be honest."
   ]
  },
  {
   "cell_type": "markdown",
   "metadata": {},
   "source": [
    "# Visualization of gender transformation"
   ]
  },
  {
   "cell_type": "code",
   "execution_count": null,
   "metadata": {},
   "outputs": [],
   "source": [
    "%%time\n",
    "# Do you remember gender_direction ? \n",
    "# Anyway let's train it one more time\n",
    "\n",
    "clf = LogisticRegression(class_weight='balanced')\n",
    "clf.fit(X_data.reshape((-1, 18*512)), y_gender_data)\n",
    "gender_dircetion = clf.coef_.reshape((18, 512))"
   ]
  },
  {
   "cell_type": "code",
   "execution_count": null,
   "metadata": {},
   "outputs": [],
   "source": [
    "import PIL.Image\n",
    "import dnnlib.tflib as tflib\n",
    "from encoder.generator_model import Generator\n",
    "\n",
    "URL_FFHQ = 'https://drive.google.com/uc?id=1MEGjdvVpUsu1jB4zrXZN7Y4kBBOzizDQ'\n",
    "\n",
    "tflib.init_tf()\n",
    "with dnnlib.util.open_url(URL_FFHQ, cache_dir=config.cache_dir) as f:\n",
    "    generator_network, discriminator_network, Gs_network = pickle.load(f)\n",
    "\n",
    "generator = Generator(Gs_network, batch_size=1, randomize_noise=False)\n",
    "\n",
    "def generate_image(latent_vector):\n",
    "    latent_vector = latent_vector.reshape((1, 18, 512))\n",
    "    generator.set_dlatents(latent_vector)\n",
    "    img_array = generator.generate_images()[0]\n",
    "    img = PIL.Image.fromarray(img_array, 'RGB')\n",
    "    return img.resize((256, 256))\n",
    "\n",
    "def move_and_show(latent_vector, direction, coeffs):\n",
    "    fig,ax = plt.subplots(1, len(coeffs), figsize=(15, 10), dpi=80)\n",
    "    for i, coeff in enumerate(coeffs):\n",
    "        new_latent_vector = latent_vector.copy()\n",
    "        new_latent_vector[:8] = (latent_vector + coeff*direction)[:8]\n",
    "        ax[i].imshow(generate_image(new_latent_vector))\n",
    "        ax[i].set_title('Coeff: %0.1f' % coeff)\n",
    "    [x.axis('off') for x in ax]\n",
    "    plt.show()"
   ]
  },
  {
   "cell_type": "code",
   "execution_count": null,
   "metadata": {
    "scrolled": true
   },
   "outputs": [],
   "source": [
    "# For generating these face untruncated sampling was used\n",
    "\n",
    "for i in range(10):\n",
    "    move_and_show(X_data.reshape((-1, 18, 512))[i], gender_dircetion, [-5, -1.5, 0, 1.5, 5])"
   ]
  },
  {
   "cell_type": "code",
   "execution_count": null,
   "metadata": {},
   "outputs": [],
   "source": [
    "donald_trump = np.load('ffhq_dataset/latent_representations/donald_trump_01.npy')\n",
    "move_and_show(donald_trump, gender_dircetion, [-5, -1.5, 0, 1.5, 5])"
   ]
  },
  {
   "cell_type": "code",
   "execution_count": null,
   "metadata": {},
   "outputs": [],
   "source": [
    "#\n",
    "# Better approach for learning better representations is coming...some regularization magic is happening\n",
    "#\n",
    "# donald_trump = np.load('dark/deep/fantasy')\n",
    "# move_and_show(donald_trump, gender_dircetion, [-5, -1.5, 0, 1.5, 5])\n",
    "\n",
    "# - here is some images -"
   ]
  },
  {
   "cell_type": "markdown",
   "metadata": {},
   "source": [
    "# Try to use some non-linear model"
   ]
  },
  {
   "cell_type": "raw",
   "metadata": {},
   "source": [
    "Maybe we can do better if we train some non-linear model ?\n",
    "But how we can move our latent vetors in non-linear space ? \n",
    "So let's see"
   ]
  },
  {
   "cell_type": "code",
   "execution_count": null,
   "metadata": {},
   "outputs": [],
   "source": [
    "import keras\n",
    "from keras.models import Sequential, Model\n",
    "from keras.layers import Dense, Dropout, Embedding, Flatten, Activation\n",
    "from keras.optimizers import SGD"
   ]
  },
  {
   "cell_type": "code",
   "execution_count": null,
   "metadata": {
    "scrolled": true
   },
   "outputs": [],
   "source": [
    "model = Sequential()\n",
    "model.add(Dense(32, activation='relu'))\n",
    "model.add(Dropout(0.3))\n",
    "model.add(Dense(1))\n",
    "model.add(Activation('sigmoid'))\n",
    "model.compile('adam', 'binary_crossentropy', metrics=['accuracy'])\n",
    "\n",
    "model.fit(X_data.reshape((-1, 18*512)), y_gender_data, validation_split=0.2, epochs=5)\n",
    "model = Model(model.input, model.layers[-2].output)\n",
    "\n",
    "# works bit better, but in general accuracy is quite similar to the linear model"
   ]
  },
  {
   "cell_type": "code",
   "execution_count": null,
   "metadata": {},
   "outputs": [],
   "source": [
    "# some dark magic is happening here\n",
    "\n",
    "embedding_model = Sequential()\n",
    "embedding_model.add(Embedding(10, 18*512, input_length=1)) # it's actually just a variable\n",
    "embedding_model.add(Flatten())\n",
    "\n",
    "nonliner_gender_model = Model(embedding_model.input, model(embedding_model.output))\n",
    "nonliner_gender_model.layers[-1].trainable = False # fix non-linear model and train only embeddings\n",
    "nonliner_gender_model.compile('sgd', 'mse')\n",
    "\n",
    "nonliner_gender_model.layers[1].set_weights([X_data[:10].reshape((-1, 18*512))])\n",
    "y_data_real = nonliner_gender_model.predict(np.arange(10))\n",
    "y_data_real"
   ]
  },
  {
   "cell_type": "code",
   "execution_count": null,
   "metadata": {
    "scrolled": true
   },
   "outputs": [],
   "source": [
    "# and here\n",
    "\n",
    "nonliner_gender_model.fit(np.arange(10), np.full((10, 1), 20), verbose=0, epochs=500)\n",
    "nonliner_gender_model.predict(np.arange(10))"
   ]
  },
  {
   "cell_type": "code",
   "execution_count": null,
   "metadata": {},
   "outputs": [],
   "source": [
    "for v in embedding_model.layers[0].get_weights()[0]:\n",
    "    plt.imshow(generate_image(v))\n",
    "    plt.show()"
   ]
  },
  {
   "cell_type": "code",
   "execution_count": null,
   "metadata": {
    "scrolled": true
   },
   "outputs": [],
   "source": [
    "# reset latents and try it over but now in another direction \n",
    "nonliner_gender_model.layers[1].set_weights([X_data[:10].reshape((-1, 18*512))])\n",
    "\n",
    "nonliner_gender_model.fit(np.arange(10), np.full((10, 1), -20), verbose=0, epochs=500)\n",
    "\n",
    "for v in embedding_model.layers[0].get_weights()[0]:\n",
    "    plt.imshow(generate_image(v))\n",
    "    plt.show()"
   ]
  },
  {
   "cell_type": "code",
   "execution_count": null,
   "metadata": {},
   "outputs": [],
   "source": [
    "# Did you expect that it's gonna work ? :)\n",
    "\n",
    "# In general:\n",
    "# 1) Instead of linear model we trained a non-linear model (two layers neural network) for predicting age\n",
    "# 2) For a given latent vector we want to find a direction in non-linear space to become more male\\female\n",
    "# 3) Direction ? Sounds like we can use gradient descent...\n",
    "# 4) So that's actually what we do, step by step we optimize latent vector to become more male\\female"
   ]
  }
 ],
 "metadata": {
  "kernelspec": {
   "display_name": "Python 3",
   "language": "python",
   "name": "python3"
  },
  "language_info": {
   "codemirror_mode": {
    "name": "ipython",
    "version": 3
   },
   "file_extension": ".py",
   "mimetype": "text/x-python",
   "name": "python",
   "nbconvert_exporter": "python",
   "pygments_lexer": "ipython3",
   "version": "3.6.8"
  }
 },
 "nbformat": 4,
 "nbformat_minor": 2
}
